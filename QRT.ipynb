{
 "cells": [
  {
   "cell_type": "markdown",
   "metadata": {},
   "source": [
    "# QRT : Stock return prediction"
   ]
  },
  {
   "cell_type": "markdown",
   "metadata": {},
   "source": [
    "## Loading libraries"
   ]
  },
  {
   "cell_type": "code",
   "execution_count": 1,
   "metadata": {
    "ExecuteTime": {
     "end_time": "2021-01-13T22:42:59.094999Z",
     "start_time": "2021-01-13T22:42:52.217377Z"
    }
   },
   "outputs": [
    {
     "name": "stdout",
     "output_type": "stream",
     "text": [
      "Setup complete ! \n"
     ]
    }
   ],
   "source": [
    "#import librairies\n",
    "\n",
    "import numpy as np\n",
    "import pandas as pd\n",
    "import seaborn as sns\n",
    "import matplotlib.pyplot as plt\n",
    "%matplotlib inline\n",
    "import warnings\n",
    "warnings.filterwarnings('ignore')\n",
    "\n",
    "#Preprocessing, encoding etc..\n",
    "\n",
    "\n",
    "from sklearn.model_selection import GridSearchCV\n",
    "from sklearn.pipeline import make_pipeline\n",
    "from sklearn.feature_selection import SelectKBest\n",
    "from sklearn.model_selection import StratifiedKFold\n",
    "from sklearn.model_selection import cross_val_score\n",
    "from sklearn.feature_selection import SelectFromModel\n",
    "from sklearn.base import TransformerMixin, BaseEstimator\n",
    "from sklearn.impute import SimpleImputer\n",
    "from sklearn.pipeline import Pipeline\n",
    "\n",
    "#Algorithms\n",
    "\n",
    "from sklearn.ensemble import RandomForestClassifier\n",
    "from xgboost import XGBClassifier\n",
    "from sklearn.ensemble import StackingClassifier\n",
    "\n",
    "#pd.set_option('display.max_row',100)\n",
    "pd.set_option('display.max_column',47)\n",
    "\n",
    "print(\"Setup complete ! \")"
   ]
  },
  {
   "cell_type": "markdown",
   "metadata": {},
   "source": [
    "## Loading data\n",
    "\n",
    "The train and test inputs are composed of 46 features.\n",
    "\n",
    "The target of this challenge is `RET` and corresponds to the fact that the **return is in the top 50% of highest stock returns**.\n",
    "\n",
    "Since the median is very close to 0, this information should not change much with the idea to predict the sign of the return."
   ]
  },
  {
   "cell_type": "markdown",
   "metadata": {},
   "source": [
    "### Train Set"
   ]
  },
  {
   "cell_type": "code",
   "execution_count": 2,
   "metadata": {
    "ExecuteTime": {
     "end_time": "2021-01-13T22:43:06.750034Z",
     "start_time": "2021-01-13T22:42:59.160999Z"
    }
   },
   "outputs": [
    {
     "data": {
      "text/html": [
       "<div>\n",
       "<style scoped>\n",
       "    .dataframe tbody tr th:only-of-type {\n",
       "        vertical-align: middle;\n",
       "    }\n",
       "\n",
       "    .dataframe tbody tr th {\n",
       "        vertical-align: top;\n",
       "    }\n",
       "\n",
       "    .dataframe thead th {\n",
       "        text-align: right;\n",
       "    }\n",
       "</style>\n",
       "<table border=\"1\" class=\"dataframe\">\n",
       "  <thead>\n",
       "    <tr style=\"text-align: right;\">\n",
       "      <th></th>\n",
       "      <th>DATE</th>\n",
       "      <th>STOCK</th>\n",
       "      <th>INDUSTRY</th>\n",
       "      <th>INDUSTRY_GROUP</th>\n",
       "      <th>SECTOR</th>\n",
       "      <th>SUB_INDUSTRY</th>\n",
       "      <th>RET_1</th>\n",
       "      <th>VOLUME_1</th>\n",
       "      <th>RET_2</th>\n",
       "      <th>VOLUME_2</th>\n",
       "      <th>RET_3</th>\n",
       "      <th>VOLUME_3</th>\n",
       "      <th>RET_4</th>\n",
       "      <th>VOLUME_4</th>\n",
       "      <th>RET_5</th>\n",
       "      <th>VOLUME_5</th>\n",
       "      <th>RET_6</th>\n",
       "      <th>VOLUME_6</th>\n",
       "      <th>RET_7</th>\n",
       "      <th>VOLUME_7</th>\n",
       "      <th>RET_8</th>\n",
       "      <th>VOLUME_8</th>\n",
       "      <th>RET_9</th>\n",
       "      <th>VOLUME_9</th>\n",
       "      <th>RET_10</th>\n",
       "      <th>VOLUME_10</th>\n",
       "      <th>RET_11</th>\n",
       "      <th>VOLUME_11</th>\n",
       "      <th>RET_12</th>\n",
       "      <th>VOLUME_12</th>\n",
       "      <th>RET_13</th>\n",
       "      <th>VOLUME_13</th>\n",
       "      <th>RET_14</th>\n",
       "      <th>VOLUME_14</th>\n",
       "      <th>RET_15</th>\n",
       "      <th>VOLUME_15</th>\n",
       "      <th>RET_16</th>\n",
       "      <th>VOLUME_16</th>\n",
       "      <th>RET_17</th>\n",
       "      <th>VOLUME_17</th>\n",
       "      <th>RET_18</th>\n",
       "      <th>VOLUME_18</th>\n",
       "      <th>RET_19</th>\n",
       "      <th>VOLUME_19</th>\n",
       "      <th>RET_20</th>\n",
       "      <th>VOLUME_20</th>\n",
       "      <th>RET</th>\n",
       "    </tr>\n",
       "    <tr>\n",
       "      <th>ID</th>\n",
       "      <th></th>\n",
       "      <th></th>\n",
       "      <th></th>\n",
       "      <th></th>\n",
       "      <th></th>\n",
       "      <th></th>\n",
       "      <th></th>\n",
       "      <th></th>\n",
       "      <th></th>\n",
       "      <th></th>\n",
       "      <th></th>\n",
       "      <th></th>\n",
       "      <th></th>\n",
       "      <th></th>\n",
       "      <th></th>\n",
       "      <th></th>\n",
       "      <th></th>\n",
       "      <th></th>\n",
       "      <th></th>\n",
       "      <th></th>\n",
       "      <th></th>\n",
       "      <th></th>\n",
       "      <th></th>\n",
       "      <th></th>\n",
       "      <th></th>\n",
       "      <th></th>\n",
       "      <th></th>\n",
       "      <th></th>\n",
       "      <th></th>\n",
       "      <th></th>\n",
       "      <th></th>\n",
       "      <th></th>\n",
       "      <th></th>\n",
       "      <th></th>\n",
       "      <th></th>\n",
       "      <th></th>\n",
       "      <th></th>\n",
       "      <th></th>\n",
       "      <th></th>\n",
       "      <th></th>\n",
       "      <th></th>\n",
       "      <th></th>\n",
       "      <th></th>\n",
       "      <th></th>\n",
       "      <th></th>\n",
       "      <th></th>\n",
       "      <th></th>\n",
       "    </tr>\n",
       "  </thead>\n",
       "  <tbody>\n",
       "    <tr>\n",
       "      <th>0</th>\n",
       "      <td>0</td>\n",
       "      <td>2</td>\n",
       "      <td>18</td>\n",
       "      <td>5</td>\n",
       "      <td>3</td>\n",
       "      <td>44</td>\n",
       "      <td>-0.015748</td>\n",
       "      <td>0.147931</td>\n",
       "      <td>-0.015504</td>\n",
       "      <td>0.179183</td>\n",
       "      <td>0.010972</td>\n",
       "      <td>0.033832</td>\n",
       "      <td>-0.014672</td>\n",
       "      <td>-0.362868</td>\n",
       "      <td>0.016483</td>\n",
       "      <td>-0.972920</td>\n",
       "      <td>0.014331</td>\n",
       "      <td>0.590810</td>\n",
       "      <td>-0.017215</td>\n",
       "      <td>0.557246</td>\n",
       "      <td>-0.018433</td>\n",
       "      <td>0.453590</td>\n",
       "      <td>0.134146</td>\n",
       "      <td>8.580442</td>\n",
       "      <td>0.182287</td>\n",
       "      <td>3.427303</td>\n",
       "      <td>0.013570</td>\n",
       "      <td>-0.328418</td>\n",
       "      <td>0.030108</td>\n",
       "      <td>-0.816436</td>\n",
       "      <td>0.027624</td>\n",
       "      <td>-0.244636</td>\n",
       "      <td>-0.049370</td>\n",
       "      <td>-2.042624</td>\n",
       "      <td>-0.028571</td>\n",
       "      <td>-0.369605</td>\n",
       "      <td>0.059459</td>\n",
       "      <td>0.630899</td>\n",
       "      <td>0.003254</td>\n",
       "      <td>-0.379412</td>\n",
       "      <td>0.008752</td>\n",
       "      <td>-0.110597</td>\n",
       "      <td>-0.012959</td>\n",
       "      <td>0.174521</td>\n",
       "      <td>-0.002155</td>\n",
       "      <td>-0.000937</td>\n",
       "      <td>True</td>\n",
       "    </tr>\n",
       "    <tr>\n",
       "      <th>1</th>\n",
       "      <td>0</td>\n",
       "      <td>3</td>\n",
       "      <td>43</td>\n",
       "      <td>15</td>\n",
       "      <td>6</td>\n",
       "      <td>104</td>\n",
       "      <td>0.003984</td>\n",
       "      <td>NaN</td>\n",
       "      <td>-0.090580</td>\n",
       "      <td>NaN</td>\n",
       "      <td>0.018826</td>\n",
       "      <td>NaN</td>\n",
       "      <td>-0.025540</td>\n",
       "      <td>NaN</td>\n",
       "      <td>-0.038062</td>\n",
       "      <td>NaN</td>\n",
       "      <td>-0.006873</td>\n",
       "      <td>NaN</td>\n",
       "      <td>-0.026756</td>\n",
       "      <td>NaN</td>\n",
       "      <td>0.023973</td>\n",
       "      <td>NaN</td>\n",
       "      <td>0.158731</td>\n",
       "      <td>NaN</td>\n",
       "      <td>0.045642</td>\n",
       "      <td>NaN</td>\n",
       "      <td>-0.008230</td>\n",
       "      <td>NaN</td>\n",
       "      <td>-0.028000</td>\n",
       "      <td>NaN</td>\n",
       "      <td>-0.019608</td>\n",
       "      <td>NaN</td>\n",
       "      <td>-0.052044</td>\n",
       "      <td>NaN</td>\n",
       "      <td>-0.004073</td>\n",
       "      <td>NaN</td>\n",
       "      <td>0.015413</td>\n",
       "      <td>NaN</td>\n",
       "      <td>0.003774</td>\n",
       "      <td>NaN</td>\n",
       "      <td>-0.018518</td>\n",
       "      <td>NaN</td>\n",
       "      <td>-0.028777</td>\n",
       "      <td>NaN</td>\n",
       "      <td>-0.034722</td>\n",
       "      <td>NaN</td>\n",
       "      <td>True</td>\n",
       "    </tr>\n",
       "    <tr>\n",
       "      <th>2</th>\n",
       "      <td>0</td>\n",
       "      <td>4</td>\n",
       "      <td>57</td>\n",
       "      <td>20</td>\n",
       "      <td>8</td>\n",
       "      <td>142</td>\n",
       "      <td>0.000440</td>\n",
       "      <td>-0.096282</td>\n",
       "      <td>-0.058896</td>\n",
       "      <td>0.084771</td>\n",
       "      <td>-0.009042</td>\n",
       "      <td>-0.298777</td>\n",
       "      <td>0.024852</td>\n",
       "      <td>-0.157421</td>\n",
       "      <td>0.009354</td>\n",
       "      <td>0.091455</td>\n",
       "      <td>0.027522</td>\n",
       "      <td>-0.405978</td>\n",
       "      <td>-0.023047</td>\n",
       "      <td>-0.389777</td>\n",
       "      <td>-0.002979</td>\n",
       "      <td>-0.701838</td>\n",
       "      <td>-0.006342</td>\n",
       "      <td>-0.229531</td>\n",
       "      <td>0.055803</td>\n",
       "      <td>0.543460</td>\n",
       "      <td>-0.012781</td>\n",
       "      <td>-0.121126</td>\n",
       "      <td>0.028093</td>\n",
       "      <td>-0.187444</td>\n",
       "      <td>-0.009426</td>\n",
       "      <td>-0.081783</td>\n",
       "      <td>-0.002686</td>\n",
       "      <td>-0.356711</td>\n",
       "      <td>-0.007552</td>\n",
       "      <td>-0.336773</td>\n",
       "      <td>0.008964</td>\n",
       "      <td>-0.010336</td>\n",
       "      <td>-0.017612</td>\n",
       "      <td>-0.354333</td>\n",
       "      <td>-0.006562</td>\n",
       "      <td>-0.519391</td>\n",
       "      <td>-0.012101</td>\n",
       "      <td>-0.356157</td>\n",
       "      <td>-0.006867</td>\n",
       "      <td>-0.308868</td>\n",
       "      <td>False</td>\n",
       "    </tr>\n",
       "    <tr>\n",
       "      <th>3</th>\n",
       "      <td>0</td>\n",
       "      <td>8</td>\n",
       "      <td>1</td>\n",
       "      <td>1</td>\n",
       "      <td>1</td>\n",
       "      <td>2</td>\n",
       "      <td>0.031298</td>\n",
       "      <td>-0.429540</td>\n",
       "      <td>0.007756</td>\n",
       "      <td>-0.089919</td>\n",
       "      <td>-0.004632</td>\n",
       "      <td>-0.639737</td>\n",
       "      <td>-0.019677</td>\n",
       "      <td>-0.940163</td>\n",
       "      <td>0.003544</td>\n",
       "      <td>-0.882464</td>\n",
       "      <td>-0.002021</td>\n",
       "      <td>-0.113951</td>\n",
       "      <td>-0.043962</td>\n",
       "      <td>-0.395345</td>\n",
       "      <td>-0.004329</td>\n",
       "      <td>-0.765754</td>\n",
       "      <td>0.014146</td>\n",
       "      <td>-0.593888</td>\n",
       "      <td>-0.021946</td>\n",
       "      <td>0.588171</td>\n",
       "      <td>0.007693</td>\n",
       "      <td>-0.427358</td>\n",
       "      <td>0.007264</td>\n",
       "      <td>-0.540519</td>\n",
       "      <td>-0.010067</td>\n",
       "      <td>-0.839232</td>\n",
       "      <td>0.000479</td>\n",
       "      <td>-2.144763</td>\n",
       "      <td>0.021057</td>\n",
       "      <td>-0.431029</td>\n",
       "      <td>-0.031769</td>\n",
       "      <td>0.012105</td>\n",
       "      <td>0.033824</td>\n",
       "      <td>-0.290178</td>\n",
       "      <td>-0.001468</td>\n",
       "      <td>-0.663834</td>\n",
       "      <td>-0.013520</td>\n",
       "      <td>-0.562126</td>\n",
       "      <td>-0.036745</td>\n",
       "      <td>-0.631458</td>\n",
       "      <td>False</td>\n",
       "    </tr>\n",
       "    <tr>\n",
       "      <th>4</th>\n",
       "      <td>0</td>\n",
       "      <td>14</td>\n",
       "      <td>36</td>\n",
       "      <td>12</td>\n",
       "      <td>5</td>\n",
       "      <td>92</td>\n",
       "      <td>0.027273</td>\n",
       "      <td>-0.847155</td>\n",
       "      <td>-0.039302</td>\n",
       "      <td>-0.943033</td>\n",
       "      <td>0.000000</td>\n",
       "      <td>-1.180629</td>\n",
       "      <td>0.000000</td>\n",
       "      <td>-1.313896</td>\n",
       "      <td>0.022321</td>\n",
       "      <td>-1.204398</td>\n",
       "      <td>0.018182</td>\n",
       "      <td>-0.879172</td>\n",
       "      <td>-0.026549</td>\n",
       "      <td>-0.858613</td>\n",
       "      <td>-0.017391</td>\n",
       "      <td>-0.029690</td>\n",
       "      <td>-0.008621</td>\n",
       "      <td>-1.022991</td>\n",
       "      <td>0.022026</td>\n",
       "      <td>-0.387114</td>\n",
       "      <td>-0.008734</td>\n",
       "      <td>-0.288180</td>\n",
       "      <td>-0.004348</td>\n",
       "      <td>-0.115091</td>\n",
       "      <td>-0.041667</td>\n",
       "      <td>0.271702</td>\n",
       "      <td>0.095891</td>\n",
       "      <td>18.894266</td>\n",
       "      <td>-0.026667</td>\n",
       "      <td>0.803608</td>\n",
       "      <td>-0.038461</td>\n",
       "      <td>-0.277083</td>\n",
       "      <td>-0.012659</td>\n",
       "      <td>0.139086</td>\n",
       "      <td>0.004237</td>\n",
       "      <td>-0.017547</td>\n",
       "      <td>0.004256</td>\n",
       "      <td>0.579510</td>\n",
       "      <td>-0.040817</td>\n",
       "      <td>0.802806</td>\n",
       "      <td>False</td>\n",
       "    </tr>\n",
       "  </tbody>\n",
       "</table>\n",
       "</div>"
      ],
      "text/plain": [
       "    DATE  STOCK  INDUSTRY  INDUSTRY_GROUP  SECTOR  SUB_INDUSTRY     RET_1  \\\n",
       "ID                                                                          \n",
       "0      0      2        18               5       3            44 -0.015748   \n",
       "1      0      3        43              15       6           104  0.003984   \n",
       "2      0      4        57              20       8           142  0.000440   \n",
       "3      0      8         1               1       1             2  0.031298   \n",
       "4      0     14        36              12       5            92  0.027273   \n",
       "\n",
       "    VOLUME_1     RET_2  VOLUME_2     RET_3  VOLUME_3     RET_4  VOLUME_4  \\\n",
       "ID                                                                         \n",
       "0   0.147931 -0.015504  0.179183  0.010972  0.033832 -0.014672 -0.362868   \n",
       "1        NaN -0.090580       NaN  0.018826       NaN -0.025540       NaN   \n",
       "2  -0.096282 -0.058896  0.084771 -0.009042 -0.298777  0.024852 -0.157421   \n",
       "3  -0.429540  0.007756 -0.089919 -0.004632 -0.639737 -0.019677 -0.940163   \n",
       "4  -0.847155 -0.039302 -0.943033  0.000000 -1.180629  0.000000 -1.313896   \n",
       "\n",
       "       RET_5  VOLUME_5     RET_6  VOLUME_6     RET_7  VOLUME_7     RET_8  \\\n",
       "ID                                                                         \n",
       "0   0.016483 -0.972920  0.014331  0.590810 -0.017215  0.557246 -0.018433   \n",
       "1  -0.038062       NaN -0.006873       NaN -0.026756       NaN  0.023973   \n",
       "2   0.009354  0.091455  0.027522 -0.405978 -0.023047 -0.389777 -0.002979   \n",
       "3   0.003544 -0.882464 -0.002021 -0.113951 -0.043962 -0.395345 -0.004329   \n",
       "4   0.022321 -1.204398  0.018182 -0.879172 -0.026549 -0.858613 -0.017391   \n",
       "\n",
       "    VOLUME_8     RET_9  VOLUME_9    RET_10  VOLUME_10    RET_11  VOLUME_11  \\\n",
       "ID                                                                           \n",
       "0   0.453590  0.134146  8.580442  0.182287   3.427303  0.013570  -0.328418   \n",
       "1        NaN  0.158731       NaN  0.045642        NaN -0.008230        NaN   \n",
       "2  -0.701838 -0.006342 -0.229531  0.055803   0.543460 -0.012781  -0.121126   \n",
       "3  -0.765754  0.014146 -0.593888 -0.021946   0.588171  0.007693  -0.427358   \n",
       "4  -0.029690 -0.008621 -1.022991  0.022026  -0.387114 -0.008734  -0.288180   \n",
       "\n",
       "      RET_12  VOLUME_12    RET_13  VOLUME_13    RET_14  VOLUME_14    RET_15  \\\n",
       "ID                                                                            \n",
       "0   0.030108  -0.816436  0.027624  -0.244636 -0.049370  -2.042624 -0.028571   \n",
       "1  -0.028000        NaN -0.019608        NaN -0.052044        NaN -0.004073   \n",
       "2   0.028093  -0.187444 -0.009426  -0.081783 -0.002686  -0.356711 -0.007552   \n",
       "3   0.007264  -0.540519 -0.010067  -0.839232  0.000479  -2.144763  0.021057   \n",
       "4  -0.004348  -0.115091 -0.041667   0.271702  0.095891  18.894266 -0.026667   \n",
       "\n",
       "    VOLUME_15    RET_16  VOLUME_16    RET_17  VOLUME_17    RET_18  VOLUME_18  \\\n",
       "ID                                                                             \n",
       "0   -0.369605  0.059459   0.630899  0.003254  -0.379412  0.008752  -0.110597   \n",
       "1         NaN  0.015413        NaN  0.003774        NaN -0.018518        NaN   \n",
       "2   -0.336773  0.008964  -0.010336 -0.017612  -0.354333 -0.006562  -0.519391   \n",
       "3   -0.431029 -0.031769   0.012105  0.033824  -0.290178 -0.001468  -0.663834   \n",
       "4    0.803608 -0.038461  -0.277083 -0.012659   0.139086  0.004237  -0.017547   \n",
       "\n",
       "      RET_19  VOLUME_19    RET_20  VOLUME_20    RET  \n",
       "ID                                                   \n",
       "0  -0.012959   0.174521 -0.002155  -0.000937   True  \n",
       "1  -0.028777        NaN -0.034722        NaN   True  \n",
       "2  -0.012101  -0.356157 -0.006867  -0.308868  False  \n",
       "3  -0.013520  -0.562126 -0.036745  -0.631458  False  \n",
       "4   0.004256   0.579510 -0.040817   0.802806  False  "
      ]
     },
     "execution_count": 2,
     "metadata": {},
     "output_type": "execute_result"
    }
   ],
   "source": [
    "X_train = pd.read_csv('../Data/x_train.csv', index_col='ID')\n",
    "y_train = pd.read_csv('../Data/y_train.csv', index_col='ID')\n",
    "df_train = pd.concat([X_train, y_train], axis=1) # ou pd.merge(right= y_train, left=x_train, on='ID')\n",
    "df_train.head()"
   ]
  },
  {
   "cell_type": "code",
   "execution_count": 3,
   "metadata": {
    "ExecuteTime": {
     "end_time": "2021-01-13T22:43:06.789187Z",
     "start_time": "2021-01-13T22:43:06.760435Z"
    }
   },
   "outputs": [
    {
     "name": "stdout",
     "output_type": "stream",
     "text": [
      "Number of rows in train set : 418595\n",
      "Number of columns in train set : 47\n"
     ]
    }
   ],
   "source": [
    "print(f'Number of rows in train set : {df_train.shape[0]}')\n",
    "print(f'Number of columns in train set : {df_train.shape[1]}')"
   ]
  },
  {
   "cell_type": "markdown",
   "metadata": {},
   "source": [
    "### Test Set"
   ]
  },
  {
   "cell_type": "code",
   "execution_count": 4,
   "metadata": {
    "ExecuteTime": {
     "end_time": "2021-01-13T22:43:10.807609Z",
     "start_time": "2021-01-13T22:43:06.813691Z"
    }
   },
   "outputs": [
    {
     "data": {
      "text/html": [
       "<div>\n",
       "<style scoped>\n",
       "    .dataframe tbody tr th:only-of-type {\n",
       "        vertical-align: middle;\n",
       "    }\n",
       "\n",
       "    .dataframe tbody tr th {\n",
       "        vertical-align: top;\n",
       "    }\n",
       "\n",
       "    .dataframe thead th {\n",
       "        text-align: right;\n",
       "    }\n",
       "</style>\n",
       "<table border=\"1\" class=\"dataframe\">\n",
       "  <thead>\n",
       "    <tr style=\"text-align: right;\">\n",
       "      <th></th>\n",
       "      <th>DATE</th>\n",
       "      <th>STOCK</th>\n",
       "      <th>INDUSTRY</th>\n",
       "      <th>INDUSTRY_GROUP</th>\n",
       "      <th>SECTOR</th>\n",
       "      <th>SUB_INDUSTRY</th>\n",
       "      <th>RET_1</th>\n",
       "      <th>VOLUME_1</th>\n",
       "      <th>RET_2</th>\n",
       "      <th>VOLUME_2</th>\n",
       "      <th>RET_3</th>\n",
       "      <th>VOLUME_3</th>\n",
       "      <th>RET_4</th>\n",
       "      <th>VOLUME_4</th>\n",
       "      <th>RET_5</th>\n",
       "      <th>VOLUME_5</th>\n",
       "      <th>RET_6</th>\n",
       "      <th>VOLUME_6</th>\n",
       "      <th>RET_7</th>\n",
       "      <th>VOLUME_7</th>\n",
       "      <th>RET_8</th>\n",
       "      <th>VOLUME_8</th>\n",
       "      <th>RET_9</th>\n",
       "      <th>VOLUME_9</th>\n",
       "      <th>RET_10</th>\n",
       "      <th>VOLUME_10</th>\n",
       "      <th>RET_11</th>\n",
       "      <th>VOLUME_11</th>\n",
       "      <th>RET_12</th>\n",
       "      <th>VOLUME_12</th>\n",
       "      <th>RET_13</th>\n",
       "      <th>VOLUME_13</th>\n",
       "      <th>RET_14</th>\n",
       "      <th>VOLUME_14</th>\n",
       "      <th>RET_15</th>\n",
       "      <th>VOLUME_15</th>\n",
       "      <th>RET_16</th>\n",
       "      <th>VOLUME_16</th>\n",
       "      <th>RET_17</th>\n",
       "      <th>VOLUME_17</th>\n",
       "      <th>RET_18</th>\n",
       "      <th>VOLUME_18</th>\n",
       "      <th>RET_19</th>\n",
       "      <th>VOLUME_19</th>\n",
       "      <th>RET_20</th>\n",
       "      <th>VOLUME_20</th>\n",
       "    </tr>\n",
       "    <tr>\n",
       "      <th>ID</th>\n",
       "      <th></th>\n",
       "      <th></th>\n",
       "      <th></th>\n",
       "      <th></th>\n",
       "      <th></th>\n",
       "      <th></th>\n",
       "      <th></th>\n",
       "      <th></th>\n",
       "      <th></th>\n",
       "      <th></th>\n",
       "      <th></th>\n",
       "      <th></th>\n",
       "      <th></th>\n",
       "      <th></th>\n",
       "      <th></th>\n",
       "      <th></th>\n",
       "      <th></th>\n",
       "      <th></th>\n",
       "      <th></th>\n",
       "      <th></th>\n",
       "      <th></th>\n",
       "      <th></th>\n",
       "      <th></th>\n",
       "      <th></th>\n",
       "      <th></th>\n",
       "      <th></th>\n",
       "      <th></th>\n",
       "      <th></th>\n",
       "      <th></th>\n",
       "      <th></th>\n",
       "      <th></th>\n",
       "      <th></th>\n",
       "      <th></th>\n",
       "      <th></th>\n",
       "      <th></th>\n",
       "      <th></th>\n",
       "      <th></th>\n",
       "      <th></th>\n",
       "      <th></th>\n",
       "      <th></th>\n",
       "      <th></th>\n",
       "      <th></th>\n",
       "      <th></th>\n",
       "      <th></th>\n",
       "      <th></th>\n",
       "      <th></th>\n",
       "    </tr>\n",
       "  </thead>\n",
       "  <tbody>\n",
       "    <tr>\n",
       "      <th>418595</th>\n",
       "      <td>2</td>\n",
       "      <td>0</td>\n",
       "      <td>37</td>\n",
       "      <td>12</td>\n",
       "      <td>5</td>\n",
       "      <td>94</td>\n",
       "      <td>0.020208</td>\n",
       "      <td>0.146176</td>\n",
       "      <td>0.010059</td>\n",
       "      <td>0.224756</td>\n",
       "      <td>0.002192</td>\n",
       "      <td>-0.474404</td>\n",
       "      <td>0.001903</td>\n",
       "      <td>0.026316</td>\n",
       "      <td>0.001466</td>\n",
       "      <td>0.079495</td>\n",
       "      <td>0.000586</td>\n",
       "      <td>-0.078154</td>\n",
       "      <td>-0.001611</td>\n",
       "      <td>-0.243718</td>\n",
       "      <td>-0.000146</td>\n",
       "      <td>-0.162995</td>\n",
       "      <td>-0.004519</td>\n",
       "      <td>-0.082635</td>\n",
       "      <td>0.003071</td>\n",
       "      <td>-0.261942</td>\n",
       "      <td>-0.013843</td>\n",
       "      <td>-0.385339</td>\n",
       "      <td>-0.002876</td>\n",
       "      <td>-0.589507</td>\n",
       "      <td>0.003463</td>\n",
       "      <td>0.060668</td>\n",
       "      <td>-0.001872</td>\n",
       "      <td>-0.249247</td>\n",
       "      <td>0.005939</td>\n",
       "      <td>-0.418752</td>\n",
       "      <td>0.022364</td>\n",
       "      <td>-0.301163</td>\n",
       "      <td>-0.001035</td>\n",
       "      <td>-0.416533</td>\n",
       "      <td>-0.000148</td>\n",
       "      <td>-0.004548</td>\n",
       "      <td>-0.000148</td>\n",
       "      <td>-0.161792</td>\n",
       "      <td>0.016997</td>\n",
       "      <td>-0.007221</td>\n",
       "    </tr>\n",
       "    <tr>\n",
       "      <th>418596</th>\n",
       "      <td>2</td>\n",
       "      <td>1</td>\n",
       "      <td>15</td>\n",
       "      <td>4</td>\n",
       "      <td>3</td>\n",
       "      <td>37</td>\n",
       "      <td>0.009134</td>\n",
       "      <td>-0.251631</td>\n",
       "      <td>0.021913</td>\n",
       "      <td>-0.712515</td>\n",
       "      <td>-0.007251</td>\n",
       "      <td>-0.328719</td>\n",
       "      <td>-0.017223</td>\n",
       "      <td>-0.921532</td>\n",
       "      <td>-0.019126</td>\n",
       "      <td>-0.857393</td>\n",
       "      <td>0.010695</td>\n",
       "      <td>-0.982053</td>\n",
       "      <td>-0.017356</td>\n",
       "      <td>-0.493607</td>\n",
       "      <td>0.008460</td>\n",
       "      <td>-0.797030</td>\n",
       "      <td>0.015403</td>\n",
       "      <td>-0.084381</td>\n",
       "      <td>0.016867</td>\n",
       "      <td>0.269908</td>\n",
       "      <td>-0.022475</td>\n",
       "      <td>-0.295082</td>\n",
       "      <td>0.040968</td>\n",
       "      <td>1.766451</td>\n",
       "      <td>0.006478</td>\n",
       "      <td>-0.386691</td>\n",
       "      <td>-0.012690</td>\n",
       "      <td>-0.525177</td>\n",
       "      <td>0.017562</td>\n",
       "      <td>-0.530799</td>\n",
       "      <td>-0.002062</td>\n",
       "      <td>-0.679724</td>\n",
       "      <td>-0.001544</td>\n",
       "      <td>-0.408979</td>\n",
       "      <td>0.001546</td>\n",
       "      <td>0.396372</td>\n",
       "      <td>-0.007875</td>\n",
       "      <td>-0.431760</td>\n",
       "      <td>0.001742</td>\n",
       "      <td>-0.574228</td>\n",
       "    </tr>\n",
       "    <tr>\n",
       "      <th>418597</th>\n",
       "      <td>2</td>\n",
       "      <td>4</td>\n",
       "      <td>57</td>\n",
       "      <td>20</td>\n",
       "      <td>8</td>\n",
       "      <td>142</td>\n",
       "      <td>0.005008</td>\n",
       "      <td>-0.115845</td>\n",
       "      <td>0.005914</td>\n",
       "      <td>-0.107441</td>\n",
       "      <td>-0.003927</td>\n",
       "      <td>0.347900</td>\n",
       "      <td>0.000873</td>\n",
       "      <td>0.731513</td>\n",
       "      <td>-0.086193</td>\n",
       "      <td>2.681007</td>\n",
       "      <td>0.028314</td>\n",
       "      <td>0.428653</td>\n",
       "      <td>-0.012561</td>\n",
       "      <td>0.323244</td>\n",
       "      <td>0.018152</td>\n",
       "      <td>0.037231</td>\n",
       "      <td>-0.005335</td>\n",
       "      <td>0.219277</td>\n",
       "      <td>0.000000</td>\n",
       "      <td>0.032683</td>\n",
       "      <td>-0.004494</td>\n",
       "      <td>-0.099527</td>\n",
       "      <td>0.002458</td>\n",
       "      <td>0.263624</td>\n",
       "      <td>0.000000</td>\n",
       "      <td>-0.336112</td>\n",
       "      <td>-0.006913</td>\n",
       "      <td>-0.039828</td>\n",
       "      <td>-0.007668</td>\n",
       "      <td>0.377134</td>\n",
       "      <td>0.004458</td>\n",
       "      <td>-0.451590</td>\n",
       "      <td>0.011481</td>\n",
       "      <td>-0.536967</td>\n",
       "      <td>0.009520</td>\n",
       "      <td>-0.368585</td>\n",
       "      <td>0.000000</td>\n",
       "      <td>0.022713</td>\n",
       "      <td>-0.002066</td>\n",
       "      <td>-0.207362</td>\n",
       "    </tr>\n",
       "    <tr>\n",
       "      <th>418598</th>\n",
       "      <td>2</td>\n",
       "      <td>5</td>\n",
       "      <td>35</td>\n",
       "      <td>12</td>\n",
       "      <td>5</td>\n",
       "      <td>91</td>\n",
       "      <td>0.015370</td>\n",
       "      <td>-0.090295</td>\n",
       "      <td>-0.013738</td>\n",
       "      <td>0.048465</td>\n",
       "      <td>0.008600</td>\n",
       "      <td>-0.218245</td>\n",
       "      <td>0.001915</td>\n",
       "      <td>-0.055296</td>\n",
       "      <td>0.008691</td>\n",
       "      <td>0.257485</td>\n",
       "      <td>0.016442</td>\n",
       "      <td>0.901757</td>\n",
       "      <td>0.027742</td>\n",
       "      <td>0.863997</td>\n",
       "      <td>0.006857</td>\n",
       "      <td>-0.930870</td>\n",
       "      <td>0.002546</td>\n",
       "      <td>-0.183697</td>\n",
       "      <td>0.000000</td>\n",
       "      <td>-0.399050</td>\n",
       "      <td>0.001785</td>\n",
       "      <td>-0.790012</td>\n",
       "      <td>-0.012840</td>\n",
       "      <td>-0.518844</td>\n",
       "      <td>0.008377</td>\n",
       "      <td>-0.350864</td>\n",
       "      <td>0.004847</td>\n",
       "      <td>-0.250060</td>\n",
       "      <td>-0.010600</td>\n",
       "      <td>-0.576994</td>\n",
       "      <td>-0.010984</td>\n",
       "      <td>-0.039714</td>\n",
       "      <td>0.037018</td>\n",
       "      <td>0.665132</td>\n",
       "      <td>-0.003097</td>\n",
       "      <td>0.141991</td>\n",
       "      <td>-0.008191</td>\n",
       "      <td>-0.172382</td>\n",
       "      <td>0.005145</td>\n",
       "      <td>-0.353172</td>\n",
       "    </tr>\n",
       "    <tr>\n",
       "      <th>418599</th>\n",
       "      <td>2</td>\n",
       "      <td>6</td>\n",
       "      <td>57</td>\n",
       "      <td>20</td>\n",
       "      <td>8</td>\n",
       "      <td>142</td>\n",
       "      <td>0.011419</td>\n",
       "      <td>-0.289027</td>\n",
       "      <td>0.022807</td>\n",
       "      <td>-0.262690</td>\n",
       "      <td>0.014645</td>\n",
       "      <td>-0.370676</td>\n",
       "      <td>-0.047796</td>\n",
       "      <td>-0.107222</td>\n",
       "      <td>-0.010220</td>\n",
       "      <td>-0.412849</td>\n",
       "      <td>0.024504</td>\n",
       "      <td>-0.289160</td>\n",
       "      <td>-0.004834</td>\n",
       "      <td>-0.658439</td>\n",
       "      <td>-0.004065</td>\n",
       "      <td>-0.847188</td>\n",
       "      <td>0.005270</td>\n",
       "      <td>-0.361449</td>\n",
       "      <td>0.014622</td>\n",
       "      <td>-0.739579</td>\n",
       "      <td>-0.001851</td>\n",
       "      <td>-0.785226</td>\n",
       "      <td>0.003608</td>\n",
       "      <td>-0.503767</td>\n",
       "      <td>-0.019612</td>\n",
       "      <td>-0.285158</td>\n",
       "      <td>-0.022215</td>\n",
       "      <td>-0.368104</td>\n",
       "      <td>-0.003550</td>\n",
       "      <td>-0.729463</td>\n",
       "      <td>0.001045</td>\n",
       "      <td>-0.565747</td>\n",
       "      <td>0.004304</td>\n",
       "      <td>-0.506291</td>\n",
       "      <td>-0.026469</td>\n",
       "      <td>-0.280666</td>\n",
       "      <td>0.010743</td>\n",
       "      <td>0.365773</td>\n",
       "      <td>-0.011134</td>\n",
       "      <td>0.933284</td>\n",
       "    </tr>\n",
       "  </tbody>\n",
       "</table>\n",
       "</div>"
      ],
      "text/plain": [
       "        DATE  STOCK  INDUSTRY  INDUSTRY_GROUP  SECTOR  SUB_INDUSTRY     RET_1  \\\n",
       "ID                                                                              \n",
       "418595     2      0        37              12       5            94  0.020208   \n",
       "418596     2      1        15               4       3            37  0.009134   \n",
       "418597     2      4        57              20       8           142  0.005008   \n",
       "418598     2      5        35              12       5            91  0.015370   \n",
       "418599     2      6        57              20       8           142  0.011419   \n",
       "\n",
       "        VOLUME_1     RET_2  VOLUME_2     RET_3  VOLUME_3     RET_4  VOLUME_4  \\\n",
       "ID                                                                             \n",
       "418595  0.146176  0.010059  0.224756  0.002192 -0.474404  0.001903  0.026316   \n",
       "418596 -0.251631  0.021913 -0.712515 -0.007251 -0.328719 -0.017223 -0.921532   \n",
       "418597 -0.115845  0.005914 -0.107441 -0.003927  0.347900  0.000873  0.731513   \n",
       "418598 -0.090295 -0.013738  0.048465  0.008600 -0.218245  0.001915 -0.055296   \n",
       "418599 -0.289027  0.022807 -0.262690  0.014645 -0.370676 -0.047796 -0.107222   \n",
       "\n",
       "           RET_5  VOLUME_5     RET_6  VOLUME_6     RET_7  VOLUME_7     RET_8  \\\n",
       "ID                                                                             \n",
       "418595  0.001466  0.079495  0.000586 -0.078154 -0.001611 -0.243718 -0.000146   \n",
       "418596 -0.019126 -0.857393  0.010695 -0.982053 -0.017356 -0.493607  0.008460   \n",
       "418597 -0.086193  2.681007  0.028314  0.428653 -0.012561  0.323244  0.018152   \n",
       "418598  0.008691  0.257485  0.016442  0.901757  0.027742  0.863997  0.006857   \n",
       "418599 -0.010220 -0.412849  0.024504 -0.289160 -0.004834 -0.658439 -0.004065   \n",
       "\n",
       "        VOLUME_8     RET_9  VOLUME_9    RET_10  VOLUME_10    RET_11  \\\n",
       "ID                                                                    \n",
       "418595 -0.162995 -0.004519 -0.082635  0.003071  -0.261942 -0.013843   \n",
       "418596 -0.797030  0.015403 -0.084381  0.016867   0.269908 -0.022475   \n",
       "418597  0.037231 -0.005335  0.219277  0.000000   0.032683 -0.004494   \n",
       "418598 -0.930870  0.002546 -0.183697  0.000000  -0.399050  0.001785   \n",
       "418599 -0.847188  0.005270 -0.361449  0.014622  -0.739579 -0.001851   \n",
       "\n",
       "        VOLUME_11    RET_12  VOLUME_12    RET_13  VOLUME_13    RET_14  \\\n",
       "ID                                                                      \n",
       "418595  -0.385339 -0.002876  -0.589507  0.003463   0.060668 -0.001872   \n",
       "418596  -0.295082  0.040968   1.766451  0.006478  -0.386691 -0.012690   \n",
       "418597  -0.099527  0.002458   0.263624  0.000000  -0.336112 -0.006913   \n",
       "418598  -0.790012 -0.012840  -0.518844  0.008377  -0.350864  0.004847   \n",
       "418599  -0.785226  0.003608  -0.503767 -0.019612  -0.285158 -0.022215   \n",
       "\n",
       "        VOLUME_14    RET_15  VOLUME_15    RET_16  VOLUME_16    RET_17  \\\n",
       "ID                                                                      \n",
       "418595  -0.249247  0.005939  -0.418752  0.022364  -0.301163 -0.001035   \n",
       "418596  -0.525177  0.017562  -0.530799 -0.002062  -0.679724 -0.001544   \n",
       "418597  -0.039828 -0.007668   0.377134  0.004458  -0.451590  0.011481   \n",
       "418598  -0.250060 -0.010600  -0.576994 -0.010984  -0.039714  0.037018   \n",
       "418599  -0.368104 -0.003550  -0.729463  0.001045  -0.565747  0.004304   \n",
       "\n",
       "        VOLUME_17    RET_18  VOLUME_18    RET_19  VOLUME_19    RET_20  \\\n",
       "ID                                                                      \n",
       "418595  -0.416533 -0.000148  -0.004548 -0.000148  -0.161792  0.016997   \n",
       "418596  -0.408979  0.001546   0.396372 -0.007875  -0.431760  0.001742   \n",
       "418597  -0.536967  0.009520  -0.368585  0.000000   0.022713 -0.002066   \n",
       "418598   0.665132 -0.003097   0.141991 -0.008191  -0.172382  0.005145   \n",
       "418599  -0.506291 -0.026469  -0.280666  0.010743   0.365773 -0.011134   \n",
       "\n",
       "        VOLUME_20  \n",
       "ID                 \n",
       "418595  -0.007221  \n",
       "418596  -0.574228  \n",
       "418597  -0.207362  \n",
       "418598  -0.353172  \n",
       "418599   0.933284  "
      ]
     },
     "execution_count": 4,
     "metadata": {},
     "output_type": "execute_result"
    }
   ],
   "source": [
    "df_test = pd.read_csv('../Data/x_test.csv', index_col='ID')\n",
    "df_test.head()"
   ]
  },
  {
   "cell_type": "code",
   "execution_count": 5,
   "metadata": {
    "ExecuteTime": {
     "end_time": "2021-01-13T22:43:10.823297Z",
     "start_time": "2021-01-13T22:43:10.814141Z"
    }
   },
   "outputs": [
    {
     "name": "stdout",
     "output_type": "stream",
     "text": [
      "Number of rows in test set : 198429\n",
      "Number of columns in test set : 46\n"
     ]
    }
   ],
   "source": [
    "print(f'Number of rows in test set : {df_test.shape[0]}')\n",
    "print(f'Number of columns in test set : {df_test.shape[1]}')"
   ]
  },
  {
   "cell_type": "markdown",
   "metadata": {},
   "source": [
    "Input datasets comprise 47 columns: the first ID column contains unique row identifiers while the other 46 descriptive features correspond to:\n",
    "\n",
    "- `DATE`: an index of the date (the dates are randomized and anonymized so there is no continuity or link between any dates),\n",
    "- `STOCK`: an index of the stock,\n",
    "- `INDUSTRY`: an index of the stock industry domain (e.g., aeronautic, IT, oil company),\n",
    "- `INDUSTRY_GROUP`: an index of the group industry,\n",
    "- `SUB_INDUSTRY`: a lower level index of the industry,\n",
    "- `SECTOR`: an index of the work sector,\n",
    "- `RET_1` to `RET_20`: the historical residual returns among the last 20 days (i.e., RET_1 is the return of the previous day and so on),\n",
    "- `VOLUME_1` to `VOLUME_20`: the historical relative volume traded among the last 20 days (i.e., VOLUME_1 is the relative volume of the previous day and so on),\n",
    "\n",
    "Output datasets are only composed of 2 columns:\n",
    "\n",
    "- `ID`: the unique row identifier (corresponding to the input identifiers)\n",
    "and the binary target:\n",
    "- `RET`: the sign of the residual stock return at time t"
   ]
  },
  {
   "cell_type": "markdown",
   "metadata": {},
   "source": [
    "## Exploratory Data Analysis"
   ]
  },
  {
   "cell_type": "code",
   "execution_count": 6,
   "metadata": {
    "ExecuteTime": {
     "end_time": "2021-01-13T22:43:10.859364Z",
     "start_time": "2021-01-13T22:43:10.828558Z"
    }
   },
   "outputs": [
    {
     "data": {
      "text/plain": [
       "RET  \n",
       "False    209749\n",
       "True     208846\n",
       "dtype: int64"
      ]
     },
     "execution_count": 6,
     "metadata": {},
     "output_type": "execute_result"
    }
   ],
   "source": [
    "y_train.value_counts()"
   ]
  },
  {
   "cell_type": "code",
   "execution_count": 7,
   "metadata": {
    "ExecuteTime": {
     "end_time": "2021-01-13T22:43:11.049070Z",
     "start_time": "2021-01-13T22:43:10.864143Z"
    }
   },
   "outputs": [
    {
     "name": "stdout",
     "output_type": "stream",
     "text": [
      "<class 'pandas.core.frame.DataFrame'>\n",
      "Int64Index: 418595 entries, 0 to 418594\n",
      "Data columns (total 47 columns):\n",
      " #   Column          Non-Null Count   Dtype  \n",
      "---  ------          --------------   -----  \n",
      " 0   DATE            418595 non-null  int64  \n",
      " 1   STOCK           418595 non-null  int64  \n",
      " 2   INDUSTRY        418595 non-null  int64  \n",
      " 3   INDUSTRY_GROUP  418595 non-null  int64  \n",
      " 4   SECTOR          418595 non-null  int64  \n",
      " 5   SUB_INDUSTRY    418595 non-null  int64  \n",
      " 6   RET_1           416236 non-null  float64\n",
      " 7   VOLUME_1        353570 non-null  float64\n",
      " 8   RET_2           416130 non-null  float64\n",
      " 9   VOLUME_2        352209 non-null  float64\n",
      " 10  RET_3           416088 non-null  float64\n",
      " 11  VOLUME_3        350776 non-null  float64\n",
      " 12  RET_4           416051 non-null  float64\n",
      " 13  VOLUME_4        347598 non-null  float64\n",
      " 14  RET_5           416011 non-null  float64\n",
      " 15  VOLUME_5        343902 non-null  float64\n",
      " 16  RET_6           415998 non-null  float64\n",
      " 17  VOLUME_6        343881 non-null  float64\n",
      " 18  RET_7           416010 non-null  float64\n",
      " 19  VOLUME_7        344742 non-null  float64\n",
      " 20  RET_8           415972 non-null  float64\n",
      " 21  VOLUME_8        344697 non-null  float64\n",
      " 22  RET_9           415913 non-null  float64\n",
      " 23  VOLUME_9        345297 non-null  float64\n",
      " 24  RET_10          415903 non-null  float64\n",
      " 25  VOLUME_10       345290 non-null  float64\n",
      " 26  RET_11          415634 non-null  float64\n",
      " 27  VOLUME_11       346570 non-null  float64\n",
      " 28  RET_12          415409 non-null  float64\n",
      " 29  VOLUME_12       356072 non-null  float64\n",
      " 30  RET_13          415235 non-null  float64\n",
      " 31  VOLUME_13       359587 non-null  float64\n",
      " 32  RET_14          414182 non-null  float64\n",
      " 33  VOLUME_14       357666 non-null  float64\n",
      " 34  RET_15          413605 non-null  float64\n",
      " 35  VOLUME_15       352222 non-null  float64\n",
      " 36  RET_16          413315 non-null  float64\n",
      " 37  VOLUME_16       351333 non-null  float64\n",
      " 38  RET_17          413294 non-null  float64\n",
      " 39  VOLUME_17       356281 non-null  float64\n",
      " 40  RET_18          413288 non-null  float64\n",
      " 41  VOLUME_18       351009 non-null  float64\n",
      " 42  RET_19          413282 non-null  float64\n",
      " 43  VOLUME_19       351266 non-null  float64\n",
      " 44  RET_20          413254 non-null  float64\n",
      " 45  VOLUME_20       350738 non-null  float64\n",
      " 46  RET             418595 non-null  bool   \n",
      "dtypes: bool(1), float64(40), int64(6)\n",
      "memory usage: 150.5 MB\n"
     ]
    }
   ],
   "source": [
    "df_train.info()"
   ]
  },
  {
   "cell_type": "code",
   "execution_count": 8,
   "metadata": {
    "ExecuteTime": {
     "end_time": "2021-01-13T22:43:11.210199Z",
     "start_time": "2021-01-13T22:43:11.073111Z"
    }
   },
   "outputs": [
    {
     "data": {
      "text/plain": [
       "DATE                  0\n",
       "STOCK                 0\n",
       "INDUSTRY              0\n",
       "INDUSTRY_GROUP        0\n",
       "SECTOR                0\n",
       "SUB_INDUSTRY          0\n",
       "RET_1              2359\n",
       "VOLUME_1          65025\n",
       "RET_2              2465\n",
       "VOLUME_2          66386\n",
       "RET_3              2507\n",
       "VOLUME_3          67819\n",
       "RET_4              2544\n",
       "VOLUME_4          70997\n",
       "RET_5              2584\n",
       "VOLUME_5          74693\n",
       "RET_6              2597\n",
       "VOLUME_6          74714\n",
       "RET_7              2585\n",
       "VOLUME_7          73853\n",
       "RET_8              2623\n",
       "VOLUME_8          73898\n",
       "RET_9              2682\n",
       "VOLUME_9          73298\n",
       "RET_10             2692\n",
       "VOLUME_10         73305\n",
       "RET_11             2961\n",
       "VOLUME_11         72025\n",
       "RET_12             3186\n",
       "VOLUME_12         62523\n",
       "RET_13             3360\n",
       "VOLUME_13         59008\n",
       "RET_14             4413\n",
       "VOLUME_14         60929\n",
       "RET_15             4990\n",
       "VOLUME_15         66373\n",
       "RET_16             5280\n",
       "VOLUME_16         67262\n",
       "RET_17             5301\n",
       "VOLUME_17         62314\n",
       "RET_18             5307\n",
       "VOLUME_18         67586\n",
       "RET_19             5313\n",
       "VOLUME_19         67329\n",
       "RET_20             5341\n",
       "VOLUME_20         67857\n",
       "RET                   0\n",
       "dtype: int64"
      ]
     },
     "execution_count": 8,
     "metadata": {},
     "output_type": "execute_result"
    }
   ],
   "source": [
    "df_train.isna().sum()"
   ]
  },
  {
   "cell_type": "code",
   "execution_count": 9,
   "metadata": {
    "ExecuteTime": {
     "end_time": "2021-01-13T22:43:11.281205Z",
     "start_time": "2021-01-13T22:43:11.218844Z"
    },
    "scrolled": true
   },
   "outputs": [
    {
     "data": {
      "text/plain": [
       "DATE                  0\n",
       "STOCK                 0\n",
       "INDUSTRY              0\n",
       "INDUSTRY_GROUP        0\n",
       "SECTOR                0\n",
       "SUB_INDUSTRY          0\n",
       "RET_1                 8\n",
       "VOLUME_1          27190\n",
       "RET_2                17\n",
       "VOLUME_2          25394\n",
       "RET_3                22\n",
       "VOLUME_3          27371\n",
       "RET_4                33\n",
       "VOLUME_4          29199\n",
       "RET_5                42\n",
       "VOLUME_5          31095\n",
       "RET_6                45\n",
       "VOLUME_6          31102\n",
       "RET_7                46\n",
       "VOLUME_7          31109\n",
       "RET_8                44\n",
       "VOLUME_8          31120\n",
       "RET_9                40\n",
       "VOLUME_9          31128\n",
       "RET_10               60\n",
       "VOLUME_10         29253\n",
       "RET_11             1053\n",
       "VOLUME_11         28285\n",
       "RET_12              166\n",
       "VOLUME_12         25360\n",
       "RET_13              274\n",
       "VOLUME_13         25486\n",
       "RET_14             1662\n",
       "VOLUME_14         28613\n",
       "RET_15             2019\n",
       "VOLUME_15         28934\n",
       "RET_16             1325\n",
       "VOLUME_16         26351\n",
       "RET_17             1398\n",
       "VOLUME_17         28173\n",
       "RET_18             1582\n",
       "VOLUME_18         26491\n",
       "RET_19             1576\n",
       "VOLUME_19         32133\n",
       "RET_20             1575\n",
       "VOLUME_20         28611\n",
       "dtype: int64"
      ]
     },
     "execution_count": 9,
     "metadata": {},
     "output_type": "execute_result"
    }
   ],
   "source": [
    "df_test.isna().sum()"
   ]
  },
  {
   "cell_type": "markdown",
   "metadata": {},
   "source": [
    "- There is a lot of missing values in both set and we can't drop them because we'll lost too much informations"
   ]
  },
  {
   "cell_type": "code",
   "execution_count": 10,
   "metadata": {
    "ExecuteTime": {
     "end_time": "2021-01-13T22:43:11.316948Z",
     "start_time": "2021-01-13T22:43:11.292528Z"
    }
   },
   "outputs": [
    {
     "data": {
      "text/plain": [
       "5350"
      ]
     },
     "execution_count": 10,
     "metadata": {},
     "output_type": "execute_result"
    }
   ],
   "source": [
    "df_train['STOCK'].nunique()"
   ]
  },
  {
   "cell_type": "code",
   "execution_count": 11,
   "metadata": {
    "ExecuteTime": {
     "end_time": "2021-01-13T22:43:11.343743Z",
     "start_time": "2021-01-13T22:43:11.321622Z"
    }
   },
   "outputs": [
    {
     "data": {
      "text/plain": [
       "12"
      ]
     },
     "execution_count": 11,
     "metadata": {},
     "output_type": "execute_result"
    }
   ],
   "source": [
    "df_train['SECTOR'].nunique()"
   ]
  },
  {
   "cell_type": "code",
   "execution_count": 12,
   "metadata": {
    "ExecuteTime": {
     "end_time": "2021-01-13T22:43:11.375760Z",
     "start_time": "2021-01-13T22:43:11.349100Z"
    }
   },
   "outputs": [
    {
     "data": {
      "text/plain": [
       "72"
      ]
     },
     "execution_count": 12,
     "metadata": {},
     "output_type": "execute_result"
    }
   ],
   "source": [
    "df_train['INDUSTRY'].nunique()"
   ]
  },
  {
   "cell_type": "code",
   "execution_count": 13,
   "metadata": {
    "ExecuteTime": {
     "end_time": "2021-01-13T22:43:11.407486Z",
     "start_time": "2021-01-13T22:43:11.393413Z"
    }
   },
   "outputs": [
    {
     "data": {
      "text/plain": [
       "26"
      ]
     },
     "execution_count": 13,
     "metadata": {},
     "output_type": "execute_result"
    }
   ],
   "source": [
    "df_train['INDUSTRY_GROUP'].nunique()"
   ]
  },
  {
   "cell_type": "markdown",
   "metadata": {},
   "source": [
    "## Feature Engineering"
   ]
  },
  {
   "cell_type": "markdown",
   "metadata": {},
   "source": [
    "To create new features and selects some of them, we create classes from BaseEstimator and TrabsformerMixin.\n",
    "\n",
    "By default, the class Features_engi creates feature that describe the median of `RET_1` , `RET_5`, `RET_11`, `RET_15`, `RET_20` conditionally to the `SECTOR` and the `DATE` and that describe also the median of `VOLUME_1`,`VOLUME_5`, `VOLUME_11`, `VOLUME_15`, `VOLUME_20` conditionally to the `STOCK` and `INDUSTRY`."
   ]
  },
  {
   "cell_type": "code",
   "execution_count": 14,
   "metadata": {
    "ExecuteTime": {
     "end_time": "2021-01-13T22:43:11.424364Z",
     "start_time": "2021-01-13T22:43:11.411808Z"
    }
   },
   "outputs": [],
   "source": [
    "class Features_engi(BaseEstimator, TransformerMixin):\n",
    "    \n",
    "    def __init__(self, shifts = [1, 5, 11, 15, 20], statistics = ['median'], target_feature = ['RET'], gb_features = ['SECTOR','DATE','STOCK']):\n",
    "        self.shifts = shifts # To deal with noise we can't take all features\n",
    "        self.statistics = statistics # type of statistic \n",
    "        self.target_feature = target_feature \n",
    "        self.gb_features = gb_features\n",
    "        self.tmp_name = str()\n",
    "        self.new_features = []\n",
    "        \n",
    "        \n",
    "    def fit(self, X, y=None):  \n",
    "        self.tmp_name = '_'.join(self.gb_features)\n",
    "        return self\n",
    "        \n",
    "    def transform(self, X, y=None):\n",
    "        #X_ = pd.DataFrame(X).copy()\n",
    "        for shift in self.shifts:\n",
    "            for stat in self.statistics:\n",
    "                for target in self.target_feature :\n",
    "                    name = f'{target}_{shift}_{self.tmp_name}_{stat}'\n",
    "                    feat = f'{target}_{shift}'\n",
    "                    self.new_features.append(name)\n",
    "                    X[name] = X.groupby(self.gb_features)[feat].transform(stat)\n",
    "        features = list(X.columns)\n",
    "        features += self.new_features  # We add conditional features\n",
    "        X_ = X[features].copy()\n",
    "        X_ = X_.loc[:,~X_.columns.duplicated()] \n",
    "        X_[X_==np.inf]=np.nan #To handle with infinite values\n",
    "        return X_"
   ]
  },
  {
   "cell_type": "markdown",
   "metadata": {},
   "source": [
    "The class Features_select select features to keep.\n",
    "We have created a list of features pre-defined, with all new features, `RET_1` to `RET_20` and `VOLUME_1` to `VOLUME_20`"
   ]
  },
  {
   "cell_type": "code",
   "execution_count": 15,
   "metadata": {
    "ExecuteTime": {
     "end_time": "2021-01-13T22:43:11.463879Z",
     "start_time": "2021-01-13T22:43:11.444493Z"
    }
   },
   "outputs": [],
   "source": [
    "class Features_select(BaseEstimator, TransformerMixin):\n",
    "    \n",
    "    def __init__(self, select = None) :\n",
    "        self.select = select\n",
    "        self.features_select = list()\n",
    "              \n",
    "    def fit(self, X, y=None): \n",
    "        if self.select == None :\n",
    "            self.features_select = list(X.columns.copy()) # If we want to keep all feature\n",
    "            \n",
    "        elif self.select == 'pre-defini' : # Pre defined list of features\n",
    "            self.features_select += ['RET_%d' % (i+1) for i in range(20)]\n",
    "            self.features_select += ['VOLUME_%d' % (i+1) for i in range(20)]\n",
    "            self.features_select += ['RET_%d_SECTOR_DATE_STOCK_median' % (i) for i in [1, 5, 11, 15, 20]]\n",
    "            self.features_select += ['VOLUME_%d_STOCK_INDUSTRY_median' % (i) for i in [1, 5, 11, 15, 20]]\n",
    "\n",
    "        else : \n",
    "            self.features_select = self.select.copy() #\n",
    "        return self\n",
    "        \n",
    "    def transform(self, X, y=None):\n",
    "        X_ = X[self.features_select].copy()\n",
    "        X_ = X_.loc[:,~X_.columns.duplicated()] \n",
    "        return X_"
   ]
  },
  {
   "cell_type": "markdown",
   "metadata": {},
   "source": [
    "## Modelling"
   ]
  },
  {
   "cell_type": "code",
   "execution_count": 16,
   "metadata": {
    "ExecuteTime": {
     "end_time": "2021-01-13T22:43:11.491441Z",
     "start_time": "2021-01-13T22:43:11.478121Z"
    }
   },
   "outputs": [],
   "source": [
    "y_train = y_train.RET"
   ]
  },
  {
   "cell_type": "markdown",
   "metadata": {},
   "source": [
    "### Evaluation\n",
    "\n",
    "- To evaluate our model we'll be using a 5-stratified-fold cross validation with the accuracy since it's the metric that the competition uses in the leaderboard.\n",
    "\n",
    "- To do that, we'll define a small scoring function."
   ]
  },
  {
   "cell_type": "code",
   "execution_count": 17,
   "metadata": {
    "ExecuteTime": {
     "end_time": "2021-01-13T22:43:11.505538Z",
     "start_time": "2021-01-13T22:43:11.498287Z"
    }
   },
   "outputs": [],
   "source": [
    "st_cv = StratifiedKFold(5)"
   ]
  },
  {
   "cell_type": "code",
   "execution_count": 18,
   "metadata": {
    "ExecuteTime": {
     "end_time": "2021-01-13T22:43:11.518403Z",
     "start_time": "2021-01-13T22:43:11.510858Z"
    }
   },
   "outputs": [],
   "source": [
    "def cv_score(clf, X, y, scoring='accuracy'):\n",
    "    xval = cross_val_score(clf, X, y, cv = st_cv, scoring=scoring)\n",
    "    print(f'Accuracy : {np.mean(xval)}')"
   ]
  },
  {
   "cell_type": "markdown",
   "metadata": {},
   "source": [
    "### Bagging vs Boosting"
   ]
  },
  {
   "cell_type": "markdown",
   "metadata": {},
   "source": [
    "We have chosen Boosting and Bagging methods\n",
    "\n",
    "We create 8 different models : \n",
    "\n",
    "- Default variables creations, pre-defined features selections, missing values imputed by 0, Random Forest\n",
    "\n",
    "- Default variables creations, pre-defined features selections, missing values imputed by the mean, Random Forest\n",
    "\n",
    "- Default variables creations, pre-defined features selections, missing values imputed by the median, Random Forest\n",
    "\n",
    "- Variables creations with an other method, features selections by a list, missing values imputed by the mean, Random Forest\n",
    "\n",
    "\n",
    "\n",
    "- Default variables creations, pre-defined features selections, missing values imputed by 0, Xgboost\n",
    "\n",
    "- Default variables creations, pre-defined features selections, missing values imputed by the mean, Xgboost\n",
    "\n",
    "- Default variables creations, pre-defined features selections, missing values imputed by the median, Xgboost\n",
    "\n",
    "- Variables creations with an other method, features selections by a list, missing values imputed by the mean, Xgboost\n"
   ]
  },
  {
   "cell_type": "markdown",
   "metadata": {},
   "source": [
    "#### Bagging"
   ]
  },
  {
   "cell_type": "code",
   "execution_count": 19,
   "metadata": {
    "ExecuteTime": {
     "end_time": "2021-01-13T22:43:11.533221Z",
     "start_time": "2021-01-13T22:43:11.522739Z"
    }
   },
   "outputs": [],
   "source": [
    "clf_zero_rf = Pipeline([(\"engin1\",Features_engi()), \n",
    "                        ('engin2', Features_engi(target_feature = ['VOLUME'], gb_features = ['STOCK','INDUSTRY'])),\n",
    "                        ('selection', Features_select('pre-defini')),\n",
    "                        (\"zero\", SimpleImputer(missing_values=np.nan,strategy='constant', fill_value=0)), \n",
    "                        (\"rf\", RandomForestClassifier(n_estimators= 200, max_depth= 5,random_state=0))])"
   ]
  },
  {
   "cell_type": "code",
   "execution_count": 20,
   "metadata": {
    "ExecuteTime": {
     "end_time": "2021-01-14T09:01:34.942843Z",
     "start_time": "2021-01-13T22:43:11.537646Z"
    }
   },
   "outputs": [
    {
     "name": "stdout",
     "output_type": "stream",
     "text": [
      "Accuracy : 0.5151614328885916\n"
     ]
    }
   ],
   "source": [
    "cv_score(clf_zero_rf, X_train, y_train)"
   ]
  },
  {
   "cell_type": "code",
   "execution_count": 21,
   "metadata": {
    "ExecuteTime": {
     "end_time": "2021-01-14T09:01:34.955389Z",
     "start_time": "2021-01-14T09:01:34.947781Z"
    }
   },
   "outputs": [],
   "source": [
    "clf_mean_rf = Pipeline([(\"engin1\", Features_engi()), \n",
    "                        ('engin2', Features_engi(target_feature = ['VOLUME'], gb_features = ['STOCK','INDUSTRY'])),\n",
    "                        ('selection', Features_select('pre-defini')),\n",
    "                        (\"mean\", SimpleImputer(missing_values=np.nan,strategy='mean')),\n",
    "                        (\"rf\", RandomForestClassifier(n_estimators= 200, max_depth= 5,random_state=0))])"
   ]
  },
  {
   "cell_type": "code",
   "execution_count": 22,
   "metadata": {
    "ExecuteTime": {
     "end_time": "2021-01-14T10:25:03.435685Z",
     "start_time": "2021-01-14T09:01:34.959688Z"
    }
   },
   "outputs": [
    {
     "name": "stdout",
     "output_type": "stream",
     "text": [
      "Accuracy : 0.5151948781041341\n"
     ]
    }
   ],
   "source": [
    "cv_score(clf_mean_rf, X_train, y_train)"
   ]
  },
  {
   "cell_type": "code",
   "execution_count": 23,
   "metadata": {
    "ExecuteTime": {
     "end_time": "2021-01-14T10:25:03.447170Z",
     "start_time": "2021-01-14T10:25:03.439628Z"
    }
   },
   "outputs": [],
   "source": [
    "clf_median_rf = Pipeline([(\"engin1\", Features_engi()), \n",
    "                        ('engin2', Features_engi(target_feature = ['VOLUME'], gb_features = ['STOCK','INDUSTRY'])),\n",
    "                        ('selection', Features_select('pre-defini')),\n",
    "                        (\"mean\", SimpleImputer(missing_values=np.nan,strategy='median')), \n",
    "                        (\"rf\", RandomForestClassifier(n_estimators= 200, max_depth= 5,random_state=0))])"
   ]
  },
  {
   "cell_type": "code",
   "execution_count": 24,
   "metadata": {
    "ExecuteTime": {
     "end_time": "2021-01-14T10:54:36.057487Z",
     "start_time": "2021-01-14T10:25:03.451836Z"
    }
   },
   "outputs": [
    {
     "name": "stdout",
     "output_type": "stream",
     "text": [
      "Accuracy : 0.5147433676943107\n"
     ]
    }
   ],
   "source": [
    "cv_score(clf_median_rf, X_train, y_train)"
   ]
  },
  {
   "cell_type": "code",
   "execution_count": 25,
   "metadata": {
    "ExecuteTime": {
     "end_time": "2021-01-14T10:54:36.102353Z",
     "start_time": "2021-01-14T10:54:36.075695Z"
    }
   },
   "outputs": [],
   "source": [
    "lst = ['RET_%d' % (i+1) for i in range(5)]\n",
    "lst += ['VOLUME_%d' % (i+1) for i in range(5)]\n",
    "lst += ['VOLUME_%d_SECTOR_INDUSTRY_STOCK_median' % (i+1) for i in range(5)]\n",
    "lst += ['RET_%d_SECTOR_INDUSTRY_STOCK_median' % (i+1) for i in range(5)]\n",
    "\n",
    "            \n",
    "clf_creation_rf = Pipeline([(\"engin1\", Features_engi(shifts = [1,2,3,4,5], statistics = ['median'], \n",
    "                                                     target_feature = ['RET', 'VOLUME'],\n",
    "                                                     gb_features = ['SECTOR','INDUSTRY','STOCK'])), \n",
    "                        ('selection', Features_select(lst)),\n",
    "                        (\"mean\", SimpleImputer(missing_values=np.nan,strategy='mean')),\n",
    "                        (\"rf\", RandomForestClassifier(n_estimators= 200, max_depth= 5,random_state=0))])"
   ]
  },
  {
   "cell_type": "code",
   "execution_count": 26,
   "metadata": {
    "ExecuteTime": {
     "end_time": "2021-01-14T11:08:22.476182Z",
     "start_time": "2021-01-14T10:54:36.109165Z"
    }
   },
   "outputs": [
    {
     "name": "stdout",
     "output_type": "stream",
     "text": [
      "Accuracy : 0.5119005243732009\n"
     ]
    }
   ],
   "source": [
    "cv_score(clf_creation_rf, X_train, y_train)"
   ]
  },
  {
   "cell_type": "markdown",
   "metadata": {},
   "source": [
    "#### Boosting"
   ]
  },
  {
   "cell_type": "code",
   "execution_count": 27,
   "metadata": {
    "ExecuteTime": {
     "end_time": "2021-01-14T11:08:22.494662Z",
     "start_time": "2021-01-14T11:08:22.479894Z"
    }
   },
   "outputs": [],
   "source": [
    "clf_zero_xgb = Pipeline([(\"engin1\",Features_engi()), \n",
    "                        ('engin2', Features_engi(target_feature = ['VOLUME'], gb_features = ['STOCK','INDUSTRY'])),\n",
    "                        ('selection', Features_select('pre-defini')),\n",
    "                        (\"zero\", SimpleImputer(missing_values=np.nan,strategy='constant', fill_value=0)), \n",
    "                        (\"xgb\", XGBClassifier(eval_metric = 'logloss',random_state=0))])"
   ]
  },
  {
   "cell_type": "code",
   "execution_count": 28,
   "metadata": {
    "ExecuteTime": {
     "end_time": "2021-01-14T11:31:00.230684Z",
     "start_time": "2021-01-14T11:08:22.501910Z"
    }
   },
   "outputs": [
    {
     "name": "stdout",
     "output_type": "stream",
     "text": [
      "Accuracy : 0.5079969899306012\n"
     ]
    }
   ],
   "source": [
    "cv_score(clf_zero_xgb, X_train, y_train)"
   ]
  },
  {
   "cell_type": "code",
   "execution_count": 29,
   "metadata": {
    "ExecuteTime": {
     "end_time": "2021-01-14T11:31:00.245157Z",
     "start_time": "2021-01-14T11:31:00.235137Z"
    }
   },
   "outputs": [],
   "source": [
    "clf_mean_xgb = Pipeline([(\"engin1\", Features_engi()), \n",
    "                        ('engin2', Features_engi(target_feature = ['VOLUME'], gb_features = ['STOCK','INDUSTRY'])),\n",
    "                        ('selection', Features_select('pre-defini')),\n",
    "                        (\"mean\", SimpleImputer(missing_values=np.nan,strategy='mean')),\n",
    "                        (\"xgb\", XGBClassifier(eval_metric = 'logloss',random_state=0))])"
   ]
  },
  {
   "cell_type": "code",
   "execution_count": 30,
   "metadata": {
    "ExecuteTime": {
     "end_time": "2021-01-14T11:55:13.889016Z",
     "start_time": "2021-01-14T11:31:00.249898Z"
    }
   },
   "outputs": [
    {
     "name": "stdout",
     "output_type": "stream",
     "text": [
      "Accuracy : 0.506790573227105\n"
     ]
    }
   ],
   "source": [
    "cv_score(clf_mean_xgb, X_train, y_train)"
   ]
  },
  {
   "cell_type": "code",
   "execution_count": 31,
   "metadata": {
    "ExecuteTime": {
     "end_time": "2021-01-14T11:55:13.909796Z",
     "start_time": "2021-01-14T11:55:13.895071Z"
    }
   },
   "outputs": [],
   "source": [
    "clf_median_xgb = Pipeline([(\"engin1\", Features_engi()), \n",
    "                        ('engin2', Features_engi(target_feature = ['VOLUME'], gb_features = ['STOCK','INDUSTRY'])),\n",
    "                        ('selection', Features_select('pre-defini')),\n",
    "                        (\"mean\", SimpleImputer(missing_values=np.nan,strategy='median')), \n",
    "                        (\"xgb\", XGBClassifier(eval_metric = 'logloss',random_state=0))])"
   ]
  },
  {
   "cell_type": "code",
   "execution_count": 32,
   "metadata": {
    "ExecuteTime": {
     "end_time": "2021-01-14T12:25:11.524326Z",
     "start_time": "2021-01-14T11:55:13.915475Z"
    }
   },
   "outputs": [
    {
     "name": "stdout",
     "output_type": "stream",
     "text": [
      "Accuracy : 0.5060404448213667\n"
     ]
    }
   ],
   "source": [
    "cv_score(clf_median_xgb, X_train, y_train)"
   ]
  },
  {
   "cell_type": "code",
   "execution_count": 33,
   "metadata": {
    "ExecuteTime": {
     "end_time": "2021-01-14T12:25:11.556873Z",
     "start_time": "2021-01-14T12:25:11.530172Z"
    }
   },
   "outputs": [],
   "source": [
    "lst = ['RET_%d' % (i+1) for i in range(5)]\n",
    "lst += ['VOLUME_%d' % (i+1) for i in range(5)]\n",
    "lst += ['VOLUME_%d_SECTOR_INDUSTRY_STOCK_median' % (i+1) for i in range(5)]\n",
    "lst += ['RET_%d_SECTOR_INDUSTRY_STOCK_median' % (i+1) for i in range(5)]\n",
    "\n",
    "            \n",
    "clf_creation_xgb = Pipeline([(\"engin1\", Features_engi(shifts = [1,2,3,4,5], statistics = ['median'],\n",
    "                                                      target_feature = ['RET', 'VOLUME'],\n",
    "                                                      gb_features = ['SECTOR','INDUSTRY','STOCK'])), \n",
    "                        ('selection', Features_select(lst)),\n",
    "                        (\"mean\", SimpleImputer(missing_values=np.nan,strategy='mean')),\n",
    "                        (\"xgb\", XGBClassifier(eval_metric = 'logloss',random_state=0))])"
   ]
  },
  {
   "cell_type": "code",
   "execution_count": 34,
   "metadata": {
    "ExecuteTime": {
     "end_time": "2021-01-14T12:32:49.528213Z",
     "start_time": "2021-01-14T12:25:11.563717Z"
    }
   },
   "outputs": [
    {
     "name": "stdout",
     "output_type": "stream",
     "text": [
      "Accuracy : 0.50536915156655\n"
     ]
    }
   ],
   "source": [
    "cv_score(clf_creation_xgb, X_train, y_train)"
   ]
  },
  {
   "cell_type": "markdown",
   "metadata": {},
   "source": [
    "- We select Bagging method and try to improve the score of the `clf_mean_rf`"
   ]
  },
  {
   "cell_type": "markdown",
   "metadata": {},
   "source": [
    "### Tuning parameters"
   ]
  },
  {
   "cell_type": "code",
   "execution_count": 35,
   "metadata": {
    "ExecuteTime": {
     "end_time": "2021-01-14T12:32:49.544049Z",
     "start_time": "2021-01-14T12:32:49.532901Z"
    },
    "code_folding": []
   },
   "outputs": [],
   "source": [
    "def Grid_Search(model):\n",
    "    \n",
    "    grid = GridSearchCV(model, params, scoring='accuracy', cv=st_cv)\n",
    "                       \n",
    "    grid.fit(X_train,y_train)\n",
    "    \n",
    "    print(\"Best parameters by grid search:\\n\", grid.best_params_)\n",
    "    print(f'Accuracy {grid.score(X_train, y_train)}')\n",
    "    \n",
    "    return grid"
   ]
  },
  {
   "cell_type": "code",
   "execution_count": 38,
   "metadata": {
    "ExecuteTime": {
     "end_time": "2021-01-15T08:44:03.991553Z",
     "start_time": "2021-01-15T08:44:03.983741Z"
    },
    "code_folding": []
   },
   "outputs": [],
   "source": [
    "#It takes too much time to try all theses parameters so we won't tune our RandomForest for now\n",
    "#params = {'rf__n_estimators' : [500,600],\n",
    "          #'rf__max_depth' : [5,10,15],\n",
    "          #'rf__min_samples_split': [1, 2, 3],\n",
    "          #'min_samples_leaf': [1, 3, 10],\n",
    "         #}"
   ]
  },
  {
   "cell_type": "code",
   "execution_count": 41,
   "metadata": {
    "ExecuteTime": {
     "end_time": "2021-01-15T11:20:08.724788Z",
     "start_time": "2021-01-15T11:20:08.719671Z"
    }
   },
   "outputs": [],
   "source": [
    "#rf_tuned = Grid_Search(clf_mean_rf)"
   ]
  },
  {
   "cell_type": "markdown",
   "metadata": {},
   "source": [
    "### Final model"
   ]
  },
  {
   "cell_type": "code",
   "execution_count": 40,
   "metadata": {
    "ExecuteTime": {
     "end_time": "2021-01-15T11:20:07.518212Z",
     "start_time": "2021-01-15T11:12:50.143628Z"
    }
   },
   "outputs": [
    {
     "name": "stdout",
     "output_type": "stream",
     "text": [
      "Accuracy on train set :0.531\n"
     ]
    }
   ],
   "source": [
    "final_model =  clf_mean_rf #rf_tuned.best_estimator_\n",
    "\n",
    "final_model.fit(X_train, y_train)\n",
    "print(f'Accuracy on train set :{np.round(final_model.score(X_train, y_train),3)}')"
   ]
  },
  {
   "cell_type": "markdown",
   "metadata": {},
   "source": [
    "## Generate the subsmission"
   ]
  },
  {
   "cell_type": "code",
   "execution_count": 43,
   "metadata": {
    "ExecuteTime": {
     "end_time": "2021-01-15T11:45:37.336375Z",
     "start_time": "2021-01-15T11:45:37.331713Z"
    }
   },
   "outputs": [],
   "source": [
    "X_test = df_test"
   ]
  },
  {
   "cell_type": "code",
   "execution_count": 70,
   "metadata": {
    "ExecuteTime": {
     "end_time": "2021-01-15T12:33:50.474077Z",
     "start_time": "2021-01-15T12:33:44.373034Z"
    }
   },
   "outputs": [],
   "source": [
    "y_pred = final_model.predict_proba(X_test)[:,1]"
   ]
  },
  {
   "cell_type": "code",
   "execution_count": 72,
   "metadata": {
    "ExecuteTime": {
     "end_time": "2021-01-15T12:33:57.565985Z",
     "start_time": "2021-01-15T12:33:57.399717Z"
    }
   },
   "outputs": [],
   "source": [
    "sub = df_test.copy()\n",
    "sub['pred'] = y_predproba\n",
    "y_pred = sub.groupby('DATE')['pred'].transform(\n",
    "    lambda x: x > x.median()).values"
   ]
  },
  {
   "cell_type": "code",
   "execution_count": 75,
   "metadata": {
    "ExecuteTime": {
     "end_time": "2021-01-15T12:34:20.720008Z",
     "start_time": "2021-01-15T12:34:20.235000Z"
    }
   },
   "outputs": [],
   "source": [
    "submission = pd.Series(y_pred)\n",
    "submission.index = X_test.index\n",
    "submission.to_csv('../Data/submissions_qrt.csv', index=True, header=True)"
   ]
  },
  {
   "cell_type": "code",
   "execution_count": 76,
   "metadata": {
    "ExecuteTime": {
     "end_time": "2021-01-15T12:34:23.046875Z",
     "start_time": "2021-01-15T12:34:23.043527Z"
    }
   },
   "outputs": [],
   "source": [
    "#Other possiblity\n",
    "#y_pred = final_model.predict(X_test)\n",
    "#submission = pd.Series(y_pred)\n",
    "#submission.index = X_test.index\n",
    "#submission.to_csv('../Data/submissions_qrt.csv', index=True, header=True)"
   ]
  }
 ],
 "metadata": {
  "kernelspec": {
   "display_name": "Python 3",
   "language": "python",
   "name": "python3"
  },
  "language_info": {
   "codemirror_mode": {
    "name": "ipython",
    "version": 3
   },
   "file_extension": ".py",
   "mimetype": "text/x-python",
   "name": "python",
   "nbconvert_exporter": "python",
   "pygments_lexer": "ipython3",
   "version": "3.7.9"
  },
  "toc": {
   "base_numbering": 1,
   "nav_menu": {},
   "number_sections": true,
   "sideBar": true,
   "skip_h1_title": false,
   "title_cell": "Table of Contents",
   "title_sidebar": "Contents",
   "toc_cell": false,
   "toc_position": {},
   "toc_section_display": true,
   "toc_window_display": false
  },
  "varInspector": {
   "cols": {
    "lenName": 16,
    "lenType": 16,
    "lenVar": 40
   },
   "kernels_config": {
    "python": {
     "delete_cmd_postfix": "",
     "delete_cmd_prefix": "del ",
     "library": "var_list.py",
     "varRefreshCmd": "print(var_dic_list())"
    },
    "r": {
     "delete_cmd_postfix": ") ",
     "delete_cmd_prefix": "rm(",
     "library": "var_list.r",
     "varRefreshCmd": "cat(var_dic_list()) "
    }
   },
   "types_to_exclude": [
    "module",
    "function",
    "builtin_function_or_method",
    "instance",
    "_Feature"
   ],
   "window_display": false
  }
 },
 "nbformat": 4,
 "nbformat_minor": 4
}
